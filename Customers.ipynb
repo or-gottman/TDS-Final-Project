{
 "cells": [
  {
   "cell_type": "code",
   "execution_count": 1,
   "id": "33f2aa44",
   "metadata": {},
   "outputs": [],
   "source": [
    "# data processing\n",
    "import pandas as pd\n",
    "import numpy as np\n",
    "\n",
    "# data visualizations\n",
    "import matplotlib.pyplot as plt\n",
    "%matplotlib inline\n",
    "\n",
    "# Machine learning library\n",
    "import sklearn\n",
    "from sklearn.cluster import KMeans\n",
    "\n",
    "#Patterns Mining\n",
    "from efficient_apriori import apriori\n",
    "\n",
    "import warnings\n",
    "warnings.filterwarnings(\"ignore\")\n",
    "\n",
    "import utils"
   ]
  },
  {
   "cell_type": "code",
   "execution_count": 2,
   "id": "4cb7c1f5",
   "metadata": {},
   "outputs": [],
   "source": [
    "# Config for Customer Personality Analysis Dataset\n",
    "is_dataset_labeled = False  # True / False\n",
    "label_name = 'label'\n",
    "label_type = '' # Continuous / Categorical, Leave empty if dataset is not labeled\n",
    "\n",
    "ordinal_textual_columns = [] \n",
    "columns_to_drop = ['custcat'] # Columns hard to deal with"
   ]
  },
  {
   "cell_type": "markdown",
   "id": "17667289",
   "metadata": {},
   "source": [
    "### 1. Load Dataset"
   ]
  },
  {
   "cell_type": "code",
   "execution_count": 3,
   "id": "a7067169",
   "metadata": {},
   "outputs": [],
   "source": [
    "# House Prices Dataset\n",
    "# dataset_path = \"../datasets/houseprices/train.csv\"\n",
    "# dtf = pd.read_csv(dataset_path,index_col='Id')\n",
    "\n",
    "dataset_path = \"./datasets/customers/Telecust1.csv\"\n",
    "dtf = pd.read_csv(dataset_path)\n",
    "\n",
    "dtf = dtf.drop(columns_to_drop, axis=1)"
   ]
  },
  {
   "cell_type": "code",
   "execution_count": 4,
   "id": "3f051855",
   "metadata": {},
   "outputs": [
    {
     "data": {
      "text/html": [
       "<div>\n",
       "<style scoped>\n",
       "    .dataframe tbody tr th:only-of-type {\n",
       "        vertical-align: middle;\n",
       "    }\n",
       "\n",
       "    .dataframe tbody tr th {\n",
       "        vertical-align: top;\n",
       "    }\n",
       "\n",
       "    .dataframe thead th {\n",
       "        text-align: right;\n",
       "    }\n",
       "</style>\n",
       "<table border=\"1\" class=\"dataframe\">\n",
       "  <thead>\n",
       "    <tr style=\"text-align: right;\">\n",
       "      <th></th>\n",
       "      <th>region</th>\n",
       "      <th>tenure</th>\n",
       "      <th>age</th>\n",
       "      <th>income</th>\n",
       "      <th>marital</th>\n",
       "      <th>address</th>\n",
       "      <th>ed</th>\n",
       "      <th>employ</th>\n",
       "      <th>retire</th>\n",
       "      <th>gender</th>\n",
       "      <th>reside</th>\n",
       "    </tr>\n",
       "  </thead>\n",
       "  <tbody>\n",
       "    <tr>\n",
       "      <th>0</th>\n",
       "      <td>2</td>\n",
       "      <td>13</td>\n",
       "      <td>44</td>\n",
       "      <td>64</td>\n",
       "      <td>1</td>\n",
       "      <td>9</td>\n",
       "      <td>4</td>\n",
       "      <td>5</td>\n",
       "      <td>0</td>\n",
       "      <td>0</td>\n",
       "      <td>2</td>\n",
       "    </tr>\n",
       "    <tr>\n",
       "      <th>1</th>\n",
       "      <td>3</td>\n",
       "      <td>11</td>\n",
       "      <td>33</td>\n",
       "      <td>136</td>\n",
       "      <td>1</td>\n",
       "      <td>7</td>\n",
       "      <td>5</td>\n",
       "      <td>5</td>\n",
       "      <td>0</td>\n",
       "      <td>0</td>\n",
       "      <td>6</td>\n",
       "    </tr>\n",
       "    <tr>\n",
       "      <th>2</th>\n",
       "      <td>3</td>\n",
       "      <td>68</td>\n",
       "      <td>52</td>\n",
       "      <td>116</td>\n",
       "      <td>1</td>\n",
       "      <td>24</td>\n",
       "      <td>1</td>\n",
       "      <td>29</td>\n",
       "      <td>0</td>\n",
       "      <td>1</td>\n",
       "      <td>2</td>\n",
       "    </tr>\n",
       "    <tr>\n",
       "      <th>3</th>\n",
       "      <td>2</td>\n",
       "      <td>33</td>\n",
       "      <td>33</td>\n",
       "      <td>33</td>\n",
       "      <td>0</td>\n",
       "      <td>12</td>\n",
       "      <td>2</td>\n",
       "      <td>0</td>\n",
       "      <td>0</td>\n",
       "      <td>1</td>\n",
       "      <td>1</td>\n",
       "    </tr>\n",
       "    <tr>\n",
       "      <th>4</th>\n",
       "      <td>2</td>\n",
       "      <td>23</td>\n",
       "      <td>30</td>\n",
       "      <td>30</td>\n",
       "      <td>1</td>\n",
       "      <td>9</td>\n",
       "      <td>1</td>\n",
       "      <td>2</td>\n",
       "      <td>0</td>\n",
       "      <td>0</td>\n",
       "      <td>4</td>\n",
       "    </tr>\n",
       "    <tr>\n",
       "      <th>...</th>\n",
       "      <td>...</td>\n",
       "      <td>...</td>\n",
       "      <td>...</td>\n",
       "      <td>...</td>\n",
       "      <td>...</td>\n",
       "      <td>...</td>\n",
       "      <td>...</td>\n",
       "      <td>...</td>\n",
       "      <td>...</td>\n",
       "      <td>...</td>\n",
       "      <td>...</td>\n",
       "    </tr>\n",
       "    <tr>\n",
       "      <th>995</th>\n",
       "      <td>3</td>\n",
       "      <td>10</td>\n",
       "      <td>39</td>\n",
       "      <td>27</td>\n",
       "      <td>0</td>\n",
       "      <td>0</td>\n",
       "      <td>3</td>\n",
       "      <td>0</td>\n",
       "      <td>0</td>\n",
       "      <td>1</td>\n",
       "      <td>3</td>\n",
       "    </tr>\n",
       "    <tr>\n",
       "      <th>996</th>\n",
       "      <td>1</td>\n",
       "      <td>7</td>\n",
       "      <td>34</td>\n",
       "      <td>22</td>\n",
       "      <td>0</td>\n",
       "      <td>2</td>\n",
       "      <td>5</td>\n",
       "      <td>5</td>\n",
       "      <td>0</td>\n",
       "      <td>1</td>\n",
       "      <td>1</td>\n",
       "    </tr>\n",
       "    <tr>\n",
       "      <th>997</th>\n",
       "      <td>3</td>\n",
       "      <td>67</td>\n",
       "      <td>59</td>\n",
       "      <td>944</td>\n",
       "      <td>0</td>\n",
       "      <td>40</td>\n",
       "      <td>5</td>\n",
       "      <td>33</td>\n",
       "      <td>0</td>\n",
       "      <td>1</td>\n",
       "      <td>1</td>\n",
       "    </tr>\n",
       "    <tr>\n",
       "      <th>998</th>\n",
       "      <td>3</td>\n",
       "      <td>70</td>\n",
       "      <td>49</td>\n",
       "      <td>87</td>\n",
       "      <td>0</td>\n",
       "      <td>18</td>\n",
       "      <td>2</td>\n",
       "      <td>22</td>\n",
       "      <td>0</td>\n",
       "      <td>1</td>\n",
       "      <td>1</td>\n",
       "    </tr>\n",
       "    <tr>\n",
       "      <th>999</th>\n",
       "      <td>3</td>\n",
       "      <td>50</td>\n",
       "      <td>36</td>\n",
       "      <td>39</td>\n",
       "      <td>1</td>\n",
       "      <td>7</td>\n",
       "      <td>3</td>\n",
       "      <td>3</td>\n",
       "      <td>0</td>\n",
       "      <td>1</td>\n",
       "      <td>3</td>\n",
       "    </tr>\n",
       "  </tbody>\n",
       "</table>\n",
       "<p>1000 rows × 11 columns</p>\n",
       "</div>"
      ],
      "text/plain": [
       "     region  tenure  age  income  marital  address  ed  employ  retire  \\\n",
       "0         2      13   44      64        1        9   4       5       0   \n",
       "1         3      11   33     136        1        7   5       5       0   \n",
       "2         3      68   52     116        1       24   1      29       0   \n",
       "3         2      33   33      33        0       12   2       0       0   \n",
       "4         2      23   30      30        1        9   1       2       0   \n",
       "..      ...     ...  ...     ...      ...      ...  ..     ...     ...   \n",
       "995       3      10   39      27        0        0   3       0       0   \n",
       "996       1       7   34      22        0        2   5       5       0   \n",
       "997       3      67   59     944        0       40   5      33       0   \n",
       "998       3      70   49      87        0       18   2      22       0   \n",
       "999       3      50   36      39        1        7   3       3       0   \n",
       "\n",
       "     gender  reside  \n",
       "0         0       2  \n",
       "1         0       6  \n",
       "2         1       2  \n",
       "3         1       1  \n",
       "4         0       4  \n",
       "..      ...     ...  \n",
       "995       1       3  \n",
       "996       1       1  \n",
       "997       1       1  \n",
       "998       1       1  \n",
       "999       1       3  \n",
       "\n",
       "[1000 rows x 11 columns]"
      ]
     },
     "execution_count": 4,
     "metadata": {},
     "output_type": "execute_result"
    }
   ],
   "source": [
    "dtf"
   ]
  },
  {
   "cell_type": "markdown",
   "id": "52c6d9c4",
   "metadata": {},
   "source": [
    "classify dataset columns "
   ]
  },
  {
   "cell_type": "code",
   "execution_count": 5,
   "id": "905a4475",
   "metadata": {},
   "outputs": [],
   "source": [
    "numeric_columns, very_numerical, categorical_columns, ordinals = utils.classify_columns(dtf)\n",
    "# Removing ordinal textual columns that were set at configuration, because they are also detected as categorical (they are also textual)\n",
    "categorical_columns = set(categorical_columns) - set(ordinal_textual_columns)"
   ]
  },
  {
   "cell_type": "markdown",
   "id": "0f169316",
   "metadata": {},
   "source": [
    "**Data Preparing:**\n",
    "\n",
    "* **Very numerical columns** - filling Null values with the column's mean\n",
    "\n",
    "* **Categorical columns** - dropping those whose more than 70% of values are missing, and filling a new 'na' category in the columns that are kept"
   ]
  },
  {
   "cell_type": "code",
   "execution_count": 6,
   "id": "8ef21ce7",
   "metadata": {},
   "outputs": [],
   "source": [
    "# the data_preparing function also returns the set of categorical columns that weren't dropped\n",
    "dtf, categorical_columns = utils.data_preparing(dtf, very_numerical, categorical_columns)"
   ]
  },
  {
   "cell_type": "markdown",
   "id": "b44de85e",
   "metadata": {},
   "source": [
    "### 2.1. For labeled datasets with continuous label - binning label"
   ]
  },
  {
   "cell_type": "code",
   "execution_count": 7,
   "id": "b5c2c295",
   "metadata": {},
   "outputs": [],
   "source": [
    "# if is_dataset_labeled and label_type == 'Continuous':\n",
    "#     # Binning the label column, if there exists one\n",
    "#     dtf[label_name] = pd.qcut(dtf[label_name],5,labels=[\"0\", \"1\", \"2\", \"3\", \"4\"])\n",
    "#     dtf[label_name].value_counts()"
   ]
  },
  {
   "cell_type": "code",
   "execution_count": 8,
   "id": "c32fd24c",
   "metadata": {
    "scrolled": false
   },
   "outputs": [],
   "source": [
    "# dtf"
   ]
  },
  {
   "cell_type": "markdown",
   "id": "6dec829a",
   "metadata": {},
   "source": [
    "### 2.2. For unlabeled datasets - run KMeans for classification\n",
    "\n",
    "We first have to make sure all the values in the dataset are numerical. To do so, we one hot encode the categorical columns, and label encode the ordinal columns that do not contain numerical values (e.g. Country, City) - if there are any. We need to define that by hand because we don't have an easy way to distinguish between textual categorical columns and textual ordinal columns."
   ]
  },
  {
   "cell_type": "code",
   "execution_count": 9,
   "id": "1c599846",
   "metadata": {},
   "outputs": [],
   "source": [
    "if not is_dataset_labeled:\n",
    "    modified_dtf = dtf.copy(deep=True)\n",
    "    # Label Encoding ordinal textual columns\n",
    "    modified_dtf = utils.label_encoding(modified_dtf, ordinal_textual_columns)\n",
    "    # One-hot encoding the categorical columns\n",
    "    modified_dtf = utils.one_hot_encoding(modified_dtf, list(categorical_columns))\n",
    "    "
   ]
  },
  {
   "cell_type": "code",
   "execution_count": 10,
   "id": "aa6bf323",
   "metadata": {},
   "outputs": [
    {
     "data": {
      "text/html": [
       "<div>\n",
       "<style scoped>\n",
       "    .dataframe tbody tr th:only-of-type {\n",
       "        vertical-align: middle;\n",
       "    }\n",
       "\n",
       "    .dataframe tbody tr th {\n",
       "        vertical-align: top;\n",
       "    }\n",
       "\n",
       "    .dataframe thead th {\n",
       "        text-align: right;\n",
       "    }\n",
       "</style>\n",
       "<table border=\"1\" class=\"dataframe\">\n",
       "  <thead>\n",
       "    <tr style=\"text-align: right;\">\n",
       "      <th></th>\n",
       "      <th>age</th>\n",
       "      <th>ed</th>\n",
       "      <th>address</th>\n",
       "      <th>income</th>\n",
       "      <th>retire</th>\n",
       "      <th>reside</th>\n",
       "      <th>marital</th>\n",
       "      <th>region</th>\n",
       "      <th>gender</th>\n",
       "      <th>employ</th>\n",
       "      <th>tenure</th>\n",
       "    </tr>\n",
       "  </thead>\n",
       "  <tbody>\n",
       "    <tr>\n",
       "      <th>0</th>\n",
       "      <td>44</td>\n",
       "      <td>4</td>\n",
       "      <td>9</td>\n",
       "      <td>64</td>\n",
       "      <td>0</td>\n",
       "      <td>2</td>\n",
       "      <td>1</td>\n",
       "      <td>2</td>\n",
       "      <td>0</td>\n",
       "      <td>5</td>\n",
       "      <td>13</td>\n",
       "    </tr>\n",
       "    <tr>\n",
       "      <th>1</th>\n",
       "      <td>33</td>\n",
       "      <td>5</td>\n",
       "      <td>7</td>\n",
       "      <td>136</td>\n",
       "      <td>0</td>\n",
       "      <td>6</td>\n",
       "      <td>1</td>\n",
       "      <td>3</td>\n",
       "      <td>0</td>\n",
       "      <td>5</td>\n",
       "      <td>11</td>\n",
       "    </tr>\n",
       "    <tr>\n",
       "      <th>2</th>\n",
       "      <td>52</td>\n",
       "      <td>1</td>\n",
       "      <td>24</td>\n",
       "      <td>116</td>\n",
       "      <td>0</td>\n",
       "      <td>2</td>\n",
       "      <td>1</td>\n",
       "      <td>3</td>\n",
       "      <td>1</td>\n",
       "      <td>29</td>\n",
       "      <td>68</td>\n",
       "    </tr>\n",
       "    <tr>\n",
       "      <th>3</th>\n",
       "      <td>33</td>\n",
       "      <td>2</td>\n",
       "      <td>12</td>\n",
       "      <td>33</td>\n",
       "      <td>0</td>\n",
       "      <td>1</td>\n",
       "      <td>0</td>\n",
       "      <td>2</td>\n",
       "      <td>1</td>\n",
       "      <td>0</td>\n",
       "      <td>33</td>\n",
       "    </tr>\n",
       "    <tr>\n",
       "      <th>4</th>\n",
       "      <td>30</td>\n",
       "      <td>1</td>\n",
       "      <td>9</td>\n",
       "      <td>30</td>\n",
       "      <td>0</td>\n",
       "      <td>4</td>\n",
       "      <td>1</td>\n",
       "      <td>2</td>\n",
       "      <td>0</td>\n",
       "      <td>2</td>\n",
       "      <td>23</td>\n",
       "    </tr>\n",
       "    <tr>\n",
       "      <th>...</th>\n",
       "      <td>...</td>\n",
       "      <td>...</td>\n",
       "      <td>...</td>\n",
       "      <td>...</td>\n",
       "      <td>...</td>\n",
       "      <td>...</td>\n",
       "      <td>...</td>\n",
       "      <td>...</td>\n",
       "      <td>...</td>\n",
       "      <td>...</td>\n",
       "      <td>...</td>\n",
       "    </tr>\n",
       "    <tr>\n",
       "      <th>995</th>\n",
       "      <td>39</td>\n",
       "      <td>3</td>\n",
       "      <td>0</td>\n",
       "      <td>27</td>\n",
       "      <td>0</td>\n",
       "      <td>3</td>\n",
       "      <td>0</td>\n",
       "      <td>3</td>\n",
       "      <td>1</td>\n",
       "      <td>0</td>\n",
       "      <td>10</td>\n",
       "    </tr>\n",
       "    <tr>\n",
       "      <th>996</th>\n",
       "      <td>34</td>\n",
       "      <td>5</td>\n",
       "      <td>2</td>\n",
       "      <td>22</td>\n",
       "      <td>0</td>\n",
       "      <td>1</td>\n",
       "      <td>0</td>\n",
       "      <td>1</td>\n",
       "      <td>1</td>\n",
       "      <td>5</td>\n",
       "      <td>7</td>\n",
       "    </tr>\n",
       "    <tr>\n",
       "      <th>997</th>\n",
       "      <td>59</td>\n",
       "      <td>5</td>\n",
       "      <td>40</td>\n",
       "      <td>944</td>\n",
       "      <td>0</td>\n",
       "      <td>1</td>\n",
       "      <td>0</td>\n",
       "      <td>3</td>\n",
       "      <td>1</td>\n",
       "      <td>33</td>\n",
       "      <td>67</td>\n",
       "    </tr>\n",
       "    <tr>\n",
       "      <th>998</th>\n",
       "      <td>49</td>\n",
       "      <td>2</td>\n",
       "      <td>18</td>\n",
       "      <td>87</td>\n",
       "      <td>0</td>\n",
       "      <td>1</td>\n",
       "      <td>0</td>\n",
       "      <td>3</td>\n",
       "      <td>1</td>\n",
       "      <td>22</td>\n",
       "      <td>70</td>\n",
       "    </tr>\n",
       "    <tr>\n",
       "      <th>999</th>\n",
       "      <td>36</td>\n",
       "      <td>3</td>\n",
       "      <td>7</td>\n",
       "      <td>39</td>\n",
       "      <td>0</td>\n",
       "      <td>3</td>\n",
       "      <td>1</td>\n",
       "      <td>3</td>\n",
       "      <td>1</td>\n",
       "      <td>3</td>\n",
       "      <td>50</td>\n",
       "    </tr>\n",
       "  </tbody>\n",
       "</table>\n",
       "<p>1000 rows × 11 columns</p>\n",
       "</div>"
      ],
      "text/plain": [
       "     age  ed  address  income  retire  reside  marital  region  gender  \\\n",
       "0     44   4        9      64       0       2        1       2       0   \n",
       "1     33   5        7     136       0       6        1       3       0   \n",
       "2     52   1       24     116       0       2        1       3       1   \n",
       "3     33   2       12      33       0       1        0       2       1   \n",
       "4     30   1        9      30       0       4        1       2       0   \n",
       "..   ...  ..      ...     ...     ...     ...      ...     ...     ...   \n",
       "995   39   3        0      27       0       3        0       3       1   \n",
       "996   34   5        2      22       0       1        0       1       1   \n",
       "997   59   5       40     944       0       1        0       3       1   \n",
       "998   49   2       18      87       0       1        0       3       1   \n",
       "999   36   3        7      39       0       3        1       3       1   \n",
       "\n",
       "     employ  tenure  \n",
       "0         5      13  \n",
       "1         5      11  \n",
       "2        29      68  \n",
       "3         0      33  \n",
       "4         2      23  \n",
       "..      ...     ...  \n",
       "995       0      10  \n",
       "996       5       7  \n",
       "997      33      67  \n",
       "998      22      70  \n",
       "999       3      50  \n",
       "\n",
       "[1000 rows x 11 columns]"
      ]
     },
     "execution_count": 10,
     "metadata": {},
     "output_type": "execute_result"
    }
   ],
   "source": [
    "modified_dtf"
   ]
  },
  {
   "cell_type": "markdown",
   "id": "5587262f",
   "metadata": {},
   "source": [
    "#### Running KMeans Classifier on the modified dataset"
   ]
  },
  {
   "cell_type": "code",
   "execution_count": 11,
   "id": "6f073be4",
   "metadata": {},
   "outputs": [],
   "source": [
    "dtf[label_name] = utils.run_KMeans(modified_dtf, k=10)"
   ]
  },
  {
   "cell_type": "code",
   "execution_count": 12,
   "id": "b9b8be58",
   "metadata": {},
   "outputs": [
    {
     "data": {
      "text/plain": [
       "6    280\n",
       "9    222\n",
       "3    184\n",
       "8    135\n",
       "0     97\n",
       "4     50\n",
       "2     22\n",
       "5      6\n",
       "1      3\n",
       "7      1\n",
       "Name: label, dtype: int64"
      ]
     },
     "execution_count": 12,
     "metadata": {},
     "output_type": "execute_result"
    }
   ],
   "source": [
    "dtf[label_name].value_counts()"
   ]
  },
  {
   "cell_type": "markdown",
   "id": "d8a8ec86",
   "metadata": {},
   "source": [
    "Removing samples from small clusters (clusters whose size is less than 1% of the dataset's size)"
   ]
  },
  {
   "cell_type": "code",
   "execution_count": 13,
   "id": "faee9e8b",
   "metadata": {},
   "outputs": [],
   "source": [
    "labels_to_remove = list()\n",
    "one_percentile = (int) (dtf.shape[0] / 100)\n",
    "for val, count in dtf[label_name].value_counts().iteritems():\n",
    "    if count <= one_percentile:\n",
    "        labels_to_remove.append(val)\n",
    "\n",
    "# Remove outlier samples that are in small clusters\n",
    "dtf = dtf[~dtf[label_name].isin(labels_to_remove)]\n"
   ]
  },
  {
   "cell_type": "code",
   "execution_count": 14,
   "id": "1b987a98",
   "metadata": {},
   "outputs": [
    {
     "data": {
      "text/plain": [
       "6    280\n",
       "9    222\n",
       "3    184\n",
       "8    135\n",
       "0     97\n",
       "4     50\n",
       "2     22\n",
       "Name: label, dtype: int64"
      ]
     },
     "execution_count": 14,
     "metadata": {},
     "output_type": "execute_result"
    }
   ],
   "source": [
    "dtf[label_name].value_counts()"
   ]
  },
  {
   "cell_type": "code",
   "execution_count": 15,
   "id": "b585808d",
   "metadata": {},
   "outputs": [
    {
     "data": {
      "text/html": [
       "<div>\n",
       "<style scoped>\n",
       "    .dataframe tbody tr th:only-of-type {\n",
       "        vertical-align: middle;\n",
       "    }\n",
       "\n",
       "    .dataframe tbody tr th {\n",
       "        vertical-align: top;\n",
       "    }\n",
       "\n",
       "    .dataframe thead th {\n",
       "        text-align: right;\n",
       "    }\n",
       "</style>\n",
       "<table border=\"1\" class=\"dataframe\">\n",
       "  <thead>\n",
       "    <tr style=\"text-align: right;\">\n",
       "      <th></th>\n",
       "      <th>region</th>\n",
       "      <th>tenure</th>\n",
       "      <th>age</th>\n",
       "      <th>income</th>\n",
       "      <th>marital</th>\n",
       "      <th>address</th>\n",
       "      <th>ed</th>\n",
       "      <th>employ</th>\n",
       "      <th>retire</th>\n",
       "      <th>gender</th>\n",
       "      <th>reside</th>\n",
       "      <th>label</th>\n",
       "    </tr>\n",
       "  </thead>\n",
       "  <tbody>\n",
       "    <tr>\n",
       "      <th>0</th>\n",
       "      <td>2</td>\n",
       "      <td>13</td>\n",
       "      <td>44</td>\n",
       "      <td>64</td>\n",
       "      <td>1</td>\n",
       "      <td>9</td>\n",
       "      <td>4</td>\n",
       "      <td>5</td>\n",
       "      <td>0</td>\n",
       "      <td>0</td>\n",
       "      <td>2</td>\n",
       "      <td>3</td>\n",
       "    </tr>\n",
       "    <tr>\n",
       "      <th>1</th>\n",
       "      <td>3</td>\n",
       "      <td>11</td>\n",
       "      <td>33</td>\n",
       "      <td>136</td>\n",
       "      <td>1</td>\n",
       "      <td>7</td>\n",
       "      <td>5</td>\n",
       "      <td>5</td>\n",
       "      <td>0</td>\n",
       "      <td>0</td>\n",
       "      <td>6</td>\n",
       "      <td>0</td>\n",
       "    </tr>\n",
       "    <tr>\n",
       "      <th>2</th>\n",
       "      <td>3</td>\n",
       "      <td>68</td>\n",
       "      <td>52</td>\n",
       "      <td>116</td>\n",
       "      <td>1</td>\n",
       "      <td>24</td>\n",
       "      <td>1</td>\n",
       "      <td>29</td>\n",
       "      <td>0</td>\n",
       "      <td>1</td>\n",
       "      <td>2</td>\n",
       "      <td>0</td>\n",
       "    </tr>\n",
       "    <tr>\n",
       "      <th>3</th>\n",
       "      <td>2</td>\n",
       "      <td>33</td>\n",
       "      <td>33</td>\n",
       "      <td>33</td>\n",
       "      <td>0</td>\n",
       "      <td>12</td>\n",
       "      <td>2</td>\n",
       "      <td>0</td>\n",
       "      <td>0</td>\n",
       "      <td>1</td>\n",
       "      <td>1</td>\n",
       "      <td>6</td>\n",
       "    </tr>\n",
       "    <tr>\n",
       "      <th>4</th>\n",
       "      <td>2</td>\n",
       "      <td>23</td>\n",
       "      <td>30</td>\n",
       "      <td>30</td>\n",
       "      <td>1</td>\n",
       "      <td>9</td>\n",
       "      <td>1</td>\n",
       "      <td>2</td>\n",
       "      <td>0</td>\n",
       "      <td>0</td>\n",
       "      <td>4</td>\n",
       "      <td>6</td>\n",
       "    </tr>\n",
       "    <tr>\n",
       "      <th>...</th>\n",
       "      <td>...</td>\n",
       "      <td>...</td>\n",
       "      <td>...</td>\n",
       "      <td>...</td>\n",
       "      <td>...</td>\n",
       "      <td>...</td>\n",
       "      <td>...</td>\n",
       "      <td>...</td>\n",
       "      <td>...</td>\n",
       "      <td>...</td>\n",
       "      <td>...</td>\n",
       "      <td>...</td>\n",
       "    </tr>\n",
       "    <tr>\n",
       "      <th>994</th>\n",
       "      <td>1</td>\n",
       "      <td>15</td>\n",
       "      <td>46</td>\n",
       "      <td>63</td>\n",
       "      <td>1</td>\n",
       "      <td>17</td>\n",
       "      <td>5</td>\n",
       "      <td>1</td>\n",
       "      <td>0</td>\n",
       "      <td>0</td>\n",
       "      <td>2</td>\n",
       "      <td>3</td>\n",
       "    </tr>\n",
       "    <tr>\n",
       "      <th>995</th>\n",
       "      <td>3</td>\n",
       "      <td>10</td>\n",
       "      <td>39</td>\n",
       "      <td>27</td>\n",
       "      <td>0</td>\n",
       "      <td>0</td>\n",
       "      <td>3</td>\n",
       "      <td>0</td>\n",
       "      <td>0</td>\n",
       "      <td>1</td>\n",
       "      <td>3</td>\n",
       "      <td>6</td>\n",
       "    </tr>\n",
       "    <tr>\n",
       "      <th>996</th>\n",
       "      <td>1</td>\n",
       "      <td>7</td>\n",
       "      <td>34</td>\n",
       "      <td>22</td>\n",
       "      <td>0</td>\n",
       "      <td>2</td>\n",
       "      <td>5</td>\n",
       "      <td>5</td>\n",
       "      <td>0</td>\n",
       "      <td>1</td>\n",
       "      <td>1</td>\n",
       "      <td>6</td>\n",
       "    </tr>\n",
       "    <tr>\n",
       "      <th>998</th>\n",
       "      <td>3</td>\n",
       "      <td>70</td>\n",
       "      <td>49</td>\n",
       "      <td>87</td>\n",
       "      <td>0</td>\n",
       "      <td>18</td>\n",
       "      <td>2</td>\n",
       "      <td>22</td>\n",
       "      <td>0</td>\n",
       "      <td>1</td>\n",
       "      <td>1</td>\n",
       "      <td>8</td>\n",
       "    </tr>\n",
       "    <tr>\n",
       "      <th>999</th>\n",
       "      <td>3</td>\n",
       "      <td>50</td>\n",
       "      <td>36</td>\n",
       "      <td>39</td>\n",
       "      <td>1</td>\n",
       "      <td>7</td>\n",
       "      <td>3</td>\n",
       "      <td>3</td>\n",
       "      <td>0</td>\n",
       "      <td>1</td>\n",
       "      <td>3</td>\n",
       "      <td>9</td>\n",
       "    </tr>\n",
       "  </tbody>\n",
       "</table>\n",
       "<p>990 rows × 12 columns</p>\n",
       "</div>"
      ],
      "text/plain": [
       "     region  tenure  age  income  marital  address  ed  employ  retire  \\\n",
       "0         2      13   44      64        1        9   4       5       0   \n",
       "1         3      11   33     136        1        7   5       5       0   \n",
       "2         3      68   52     116        1       24   1      29       0   \n",
       "3         2      33   33      33        0       12   2       0       0   \n",
       "4         2      23   30      30        1        9   1       2       0   \n",
       "..      ...     ...  ...     ...      ...      ...  ..     ...     ...   \n",
       "994       1      15   46      63        1       17   5       1       0   \n",
       "995       3      10   39      27        0        0   3       0       0   \n",
       "996       1       7   34      22        0        2   5       5       0   \n",
       "998       3      70   49      87        0       18   2      22       0   \n",
       "999       3      50   36      39        1        7   3       3       0   \n",
       "\n",
       "     gender  reside  label  \n",
       "0         0       2      3  \n",
       "1         0       6      0  \n",
       "2         1       2      0  \n",
       "3         1       1      6  \n",
       "4         0       4      6  \n",
       "..      ...     ...    ...  \n",
       "994       0       2      3  \n",
       "995       1       3      6  \n",
       "996       1       1      6  \n",
       "998       1       1      8  \n",
       "999       1       3      9  \n",
       "\n",
       "[990 rows x 12 columns]"
      ]
     },
     "execution_count": 15,
     "metadata": {},
     "output_type": "execute_result"
    }
   ],
   "source": [
    "dtf"
   ]
  },
  {
   "cell_type": "markdown",
   "id": "3a123075",
   "metadata": {},
   "source": [
    "### 3. Running Apriori Algorithm\n",
    "We now have a labeled dataset. We split it into clusters according to the label, and convert each cluster dataframe into a transactional form.  \n",
    "Then, we run the Apriori algorithm on each dataframe independently, and save the total list of mined association rules."
   ]
  },
  {
   "cell_type": "code",
   "execution_count": 16,
   "id": "d157fef8",
   "metadata": {},
   "outputs": [
    {
     "name": "stdout",
     "output_type": "stream",
     "text": [
      "Wall time: 40.9 ms\n"
     ]
    }
   ],
   "source": [
    "%%time\n",
    "cluster_mined_rules = utils.mine_labeled_df_association_rules(dtf, label_name, min_support=0.5, min_confidence=0.8)"
   ]
  },
  {
   "cell_type": "code",
   "execution_count": 17,
   "id": "c8a8309b",
   "metadata": {},
   "outputs": [
    {
     "data": {
      "text/plain": [
       "[{('gender', 1)} -> {('label', 0)},\n",
       " {('gender', 1)} -> {('retire', 0)},\n",
       " {('marital', 0)} -> {('label', 0)},\n",
       " {('retire', 0)} -> {('label', 0)},\n",
       " {('label', 0)} -> {('retire', 0)}]"
      ]
     },
     "execution_count": 17,
     "metadata": {},
     "output_type": "execute_result"
    }
   ],
   "source": [
    "cluster_mined_rules[:5]"
   ]
  },
  {
   "cell_type": "code",
   "execution_count": 18,
   "id": "2e319f9b",
   "metadata": {},
   "outputs": [
    {
     "data": {
      "text/plain": [
       "77"
      ]
     },
     "execution_count": 18,
     "metadata": {},
     "output_type": "execute_result"
    }
   ],
   "source": [
    "len(cluster_mined_rules)"
   ]
  },
  {
   "cell_type": "markdown",
   "id": "f96176f8",
   "metadata": {},
   "source": [
    "### 4. Experimental Evaluation\n",
    "We will now try to show that the rules we mined from the clusters are more insightful than rules that are mined on the dataset as a whole."
   ]
  },
  {
   "cell_type": "code",
   "execution_count": 19,
   "id": "a36f8850",
   "metadata": {},
   "outputs": [],
   "source": [
    "unpartitioned_dataset_rules = utils.mine_association_rules(dtf, min_support=0.5, min_confidence=0.8)"
   ]
  },
  {
   "cell_type": "code",
   "execution_count": 20,
   "id": "0ad5b892",
   "metadata": {},
   "outputs": [
    {
     "data": {
      "text/plain": [
       "[]"
      ]
     },
     "execution_count": 20,
     "metadata": {},
     "output_type": "execute_result"
    }
   ],
   "source": [
    "unpartitioned_dataset_rules"
   ]
  },
  {
   "cell_type": "markdown",
   "id": "5f154e98",
   "metadata": {},
   "source": [
    "We can see that when using the same support and confidence thresholds, we get way more association rules when we mine them independently from each cluster."
   ]
  },
  {
   "cell_type": "code",
   "execution_count": 21,
   "id": "ccef0940",
   "metadata": {},
   "outputs": [
    {
     "name": "stdout",
     "output_type": "stream",
     "text": [
      "Simple mined rules:   0\n",
      "Cluster mined rules:  77\n"
     ]
    }
   ],
   "source": [
    "print(\"Simple mined rules:  \", len(unpartitioned_dataset_rules))\n",
    "print(\"Cluster mined rules: \", len(cluster_mined_rules))"
   ]
  },
  {
   "cell_type": "markdown",
   "id": "0b4a0620",
   "metadata": {},
   "source": [
    "to get the around the same number of rules as the rules we mined from clusters, the support / confidence thresholds (or both) need to be lowered."
   ]
  },
  {
   "cell_type": "code",
   "execution_count": 22,
   "id": "80fc5be1",
   "metadata": {},
   "outputs": [],
   "source": [
    "more_unpartitioned_dataset_rules = utils.mine_association_rules(dtf, min_support=0.17, min_confidence=0.5)"
   ]
  },
  {
   "cell_type": "code",
   "execution_count": 23,
   "id": "e063626a",
   "metadata": {},
   "outputs": [
    {
     "data": {
      "text/plain": [
       "73"
      ]
     },
     "execution_count": 23,
     "metadata": {},
     "output_type": "execute_result"
    }
   ],
   "source": [
    "len(more_unpartitioned_dataset_rules)"
   ]
  },
  {
   "cell_type": "markdown",
   "id": "3cbe3a9b",
   "metadata": {},
   "source": [
    "#### Plot Amounts of Association Rules"
   ]
  },
  {
   "cell_type": "code",
   "execution_count": 27,
   "id": "c7a643da",
   "metadata": {},
   "outputs": [
    {
     "data": {
      "image/png": "[encoded data removed]",
      "text/plain": [
       "<Figure size 432x288 with 1 Axes>"
      ]
     },
     "metadata": {
      "needs_background": "light"
     },
     "output_type": "display_data"
    }
   ],
   "source": [
    "height = [len(cluster_mined_rules), len(unpartitioned_dataset_rules) ,len(more_unpartitioned_dataset_rules)]\n",
    "bars = ('Clusters\\n(supp=0.5, conf=0.8)',\n",
    "        'Unpartitioned Dataset\\n(supp=0.5, conf=0.8)',\n",
    "        'Unpartitioned Dataset\\n(supp=0.17, conf=0.5)')\n",
    " \n",
    "# Create bars and choose color\n",
    "plt.bar([1,2,3], height, color = (0.5,0.8,0,1))\n",
    " \n",
    "# Add title and axis names\n",
    "plt.title('Association Rule Mining on the Customers Dataset')\n",
    "# plt.xlabel('categories')\n",
    "plt.ylabel('Amount of Rules')\n",
    " \n",
    "# Create names on the x axis\n",
    "plt.xticks([1,2,3], bars, rotation=15)\n",
    " \n",
    "# Show graph\n",
    "plt.show()"
   ]
  },
  {
   "cell_type": "markdown",
   "id": "9f9c3145",
   "metadata": {},
   "source": [
    "\n",
    "We expect to see higher number of interesting rules among the rules we mined from each cluster independently.  \n"
   ]
  },
  {
   "cell_type": "markdown",
   "id": "38b12644",
   "metadata": {},
   "source": [
    "##### Lift"
   ]
  },
  {
   "cell_type": "markdown",
   "id": "17b7a568",
   "metadata": {},
   "source": [
    "The Lift measure on an association rule X->Y measures how many times more often X and Y occur together than expected if they were statistically independent.  \n",
    "The range of lift value is [0, ∞].\n",
    "\n",
    "* A lift value of 1 indicates independece between X and Y.\n",
    "* Lift(X->Y)<1 means negative correlation between X and Y.\n",
    "* Lift(X->Y)>1 means strong dependancy between X and Y.\n"
   ]
  },
  {
   "cell_type": "code",
   "execution_count": 28,
   "id": "ef541462",
   "metadata": {},
   "outputs": [
    {
     "name": "stdout",
     "output_type": "stream",
     "text": [
      "3\n",
      "31\n"
     ]
    }
   ],
   "source": [
    "count_interesting_cluster_rules_lift = 0\n",
    "count_interesting_unpartitioned_rules_lift = 0\n",
    "\n",
    "epsilon = 0.05\n",
    "\n",
    "for rule in cluster_mined_rules:\n",
    "    if rule.lift >= 1 + epsilon or rule.lift <= 1 - epsilon:\n",
    "        count_interesting_cluster_rules_lift += 1\n",
    "        \n",
    "for rule in more_unpartitioned_dataset_rules:\n",
    "    if rule.lift >= 1 + epsilon or rule.lift <= 1 - epsilon:\n",
    "        count_interesting_unpartitioned_rules_lift += 1\n",
    "\n",
    "print(count_interesting_cluster_rules_lift)\n",
    "print(count_interesting_unpartitioned_rules_lift)"
   ]
  },
  {
   "cell_type": "markdown",
   "id": "cb7dfc20",
   "metadata": {},
   "source": [
    "##### Conviction\n",
    "Conviction is a similar interestingness measure to lift. However, in contrast to lift, it is a directed measure since it also uses the information of the absence of the consequent. 1 indicates independence, rules that always hold have ∞."
   ]
  },
  {
   "cell_type": "code",
   "execution_count": 29,
   "id": "7222766c",
   "metadata": {},
   "outputs": [
    {
     "name": "stdout",
     "output_type": "stream",
     "text": [
      "72\n",
      "51\n"
     ]
    }
   ],
   "source": [
    "count_interesting_cluster_rules_conv = 0\n",
    "count_interesting_unpartitioned_rules_conv = 0\n",
    "\n",
    "epsilon = 0.05\n",
    "\n",
    "for rule in cluster_mined_rules:\n",
    "    if rule.conviction >= 1 + epsilon or rule.conviction <= 1 - epsilon:\n",
    "        count_interesting_cluster_rules_conv += 1\n",
    "        \n",
    "for rule in more_unpartitioned_dataset_rules:\n",
    "    if rule.conviction >= 1 + epsilon or rule.conviction <= 1 - epsilon:\n",
    "        count_interesting_unpartitioned_rules_conv += 1\n",
    "\n",
    "print(count_interesting_cluster_rules_conv)\n",
    "print(count_interesting_unpartitioned_rules_conv)"
   ]
  },
  {
   "cell_type": "code",
   "execution_count": 30,
   "id": "ca6bc258",
   "metadata": {},
   "outputs": [
    {
     "data": {
      "image/png": "[encoded data removed]",
      "text/plain": [
       "<Figure size 432x288 with 1 Axes>"
      ]
     },
     "metadata": {
      "needs_background": "light"
     },
     "output_type": "display_data"
    }
   ],
   "source": [
    "import numpy as np\n",
    "X = ['By Lift','By Conviction']\n",
    "from_cluster = [count_interesting_cluster_rules_lift, count_interesting_cluster_rules_conv]\n",
    "from_unpartitioned = [count_interesting_unpartitioned_rules_lift, count_interesting_unpartitioned_rules_conv]\n",
    "  \n",
    "X_axis = np.arange(len(X))\n",
    "  \n",
    "plt.bar(X_axis - 0.2, from_cluster, 0.4, label = 'From Clusters')\n",
    "plt.bar(X_axis + 0.2, from_unpartitioned, 0.4, label = 'From Unpartitioned Dataset')\n",
    "  \n",
    "plt.xticks(X_axis, X)\n",
    "plt.xlabel(\"Interestingness Measure\")\n",
    "plt.ylabel(\"Amount of Rules\")\n",
    "plt.title(\"Number of Interesting Rules from the Customers Dataset\")\n",
    "plt.legend()\n",
    "plt.show()"
   ]
  },
  {
   "cell_type": "markdown",
   "id": "f69ac4db",
   "metadata": {},
   "source": [
    "Measuring the lift and conviction values, probably isn't the best way to measure the interestingness level of rule for our purpose. Maybe becuase the lift calculation depends on the support and confidence, and doens't do justice with the rare rules we mined from each cluster independently.  \n",
    "\n",
    "For future work we will try to check their interestingness in another way - we will take the test dataset, and label it using KNN classifier according to the clusters.\n",
    "Then, we will randomly remove one cell from every sample, and see how well our rules restore the missing value."
   ]
  },
  {
   "cell_type": "code",
   "execution_count": null,
   "id": "81b5e46a",
   "metadata": {},
   "outputs": [],
   "source": []
  },
  {
   "cell_type": "code",
   "execution_count": null,
   "id": "fc9ab34c",
   "metadata": {},
   "outputs": [],
   "source": []
  }
 ],
 "metadata": {
  "kernelspec": {
   "display_name": "Python 3 (ipykernel)",
   "language": "python",
   "name": "python3"
  },
  "language_info": {
   "codemirror_mode": {
    "name": "ipython",
    "version": 3
   },
   "file_extension": ".py",
   "mimetype": "text/x-python",
   "name": "python",
   "nbconvert_exporter": "python",
   "pygments_lexer": "ipython3",
   "version": "3.7.9"
  }
 },
 "nbformat": 4,
 "nbformat_minor": 5
}
