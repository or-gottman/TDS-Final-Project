{
 "cells": [
  {
   "cell_type": "code",
   "execution_count": 1,
   "id": "ab74cba7",
   "metadata": {},
   "outputs": [],
   "source": [
    "#data processing\n",
    "import pandas as pd\n",
    "import numpy as np\n",
    "\n",
    "#data visualizations\n",
    "import matplotlib.pyplot as plt\n",
    "%matplotlib inline\n",
    "\n",
    "#Machine learning library\n",
    "import sklearn\n",
    "from sklearn.cluster import KMeans\n",
    "\n",
    "#Patterns Mining\n",
    "from efficient_apriori import apriori\n",
    "\n",
    "import warnings\n",
    "warnings.filterwarnings(\"ignore\")\n",
    "\n",
    "import utils"
   ]
  },
  {
   "cell_type": "code",
   "execution_count": 2,
   "id": "76019644",
   "metadata": {},
   "outputs": [],
   "source": [
    "# # Config for House Prices Dataset\n",
    "# is_dataset_labeled = True  # True / False\n",
    "# label_name = 'SalePrice'  # Leave empty if dataset is not labeled\n",
    "# label_type = 'Continuous' # Continuous / Categorical\n",
    "\n",
    "# ordinal_textual_columns = []  # Leave empty if dataset is labeled\n",
    "\n",
    "# # Config for Customer Personality Analysis Dataset\n",
    "# is_dataset_labeled = False  # True / False\n",
    "# label_name = 'label'\n",
    "# label_type = '' # Continuous / Categorical, Leave empty if dataset is not labeled\n",
    "\n",
    "# ordinal_textual_columns = [] \n",
    "# columns_to_drop = ['custcat'] # Columns hard to deal with\n",
    "\n",
    "# Config for Adult Income Dataset\n",
    "is_dataset_labeled = True  # True / False\n",
    "label_name = 'income'\n",
    "label_type = 'Categorical' # Continuous / Categorical, Leave empty if dataset is not labeled\n",
    "\n",
    "ordinal_textual_columns = ['education'] \n"
   ]
  },
  {
   "cell_type": "markdown",
   "id": "9f884807",
   "metadata": {},
   "source": [
    "### 1. Load Dataset"
   ]
  },
  {
   "cell_type": "code",
   "execution_count": 3,
   "id": "3679e1da",
   "metadata": {},
   "outputs": [],
   "source": [
    "dataset_path = \"./datasets/adultincome/adult.csv\"\n",
    "dtf = pd.read_csv(dataset_path)"
   ]
  },
  {
   "cell_type": "code",
   "execution_count": 4,
   "id": "6c6540a4",
   "metadata": {
    "scrolled": true
   },
   "outputs": [
    {
     "data": {
      "text/html": [
       "<div>\n",
       "<style scoped>\n",
       "    .dataframe tbody tr th:only-of-type {\n",
       "        vertical-align: middle;\n",
       "    }\n",
       "\n",
       "    .dataframe tbody tr th {\n",
       "        vertical-align: top;\n",
       "    }\n",
       "\n",
       "    .dataframe thead th {\n",
       "        text-align: right;\n",
       "    }\n",
       "</style>\n",
       "<table border=\"1\" class=\"dataframe\">\n",
       "  <thead>\n",
       "    <tr style=\"text-align: right;\">\n",
       "      <th></th>\n",
       "      <th>age</th>\n",
       "      <th>workclass</th>\n",
       "      <th>fnlwgt</th>\n",
       "      <th>education</th>\n",
       "      <th>educational-num</th>\n",
       "      <th>marital-status</th>\n",
       "      <th>occupation</th>\n",
       "      <th>relationship</th>\n",
       "      <th>race</th>\n",
       "      <th>gender</th>\n",
       "      <th>capital-gain</th>\n",
       "      <th>capital-loss</th>\n",
       "      <th>hours-per-week</th>\n",
       "      <th>native-country</th>\n",
       "      <th>income</th>\n",
       "    </tr>\n",
       "  </thead>\n",
       "  <tbody>\n",
       "    <tr>\n",
       "      <th>0</th>\n",
       "      <td>25</td>\n",
       "      <td>Private</td>\n",
       "      <td>226802</td>\n",
       "      <td>11th</td>\n",
       "      <td>7</td>\n",
       "      <td>Never-married</td>\n",
       "      <td>Machine-op-inspct</td>\n",
       "      <td>Own-child</td>\n",
       "      <td>Black</td>\n",
       "      <td>Male</td>\n",
       "      <td>0</td>\n",
       "      <td>0</td>\n",
       "      <td>40</td>\n",
       "      <td>United-States</td>\n",
       "      <td>&lt;=50K</td>\n",
       "    </tr>\n",
       "    <tr>\n",
       "      <th>1</th>\n",
       "      <td>38</td>\n",
       "      <td>Private</td>\n",
       "      <td>89814</td>\n",
       "      <td>HS-grad</td>\n",
       "      <td>9</td>\n",
       "      <td>Married-civ-spouse</td>\n",
       "      <td>Farming-fishing</td>\n",
       "      <td>Husband</td>\n",
       "      <td>White</td>\n",
       "      <td>Male</td>\n",
       "      <td>0</td>\n",
       "      <td>0</td>\n",
       "      <td>50</td>\n",
       "      <td>United-States</td>\n",
       "      <td>&lt;=50K</td>\n",
       "    </tr>\n",
       "    <tr>\n",
       "      <th>2</th>\n",
       "      <td>28</td>\n",
       "      <td>Local-gov</td>\n",
       "      <td>336951</td>\n",
       "      <td>Assoc-acdm</td>\n",
       "      <td>12</td>\n",
       "      <td>Married-civ-spouse</td>\n",
       "      <td>Protective-serv</td>\n",
       "      <td>Husband</td>\n",
       "      <td>White</td>\n",
       "      <td>Male</td>\n",
       "      <td>0</td>\n",
       "      <td>0</td>\n",
       "      <td>40</td>\n",
       "      <td>United-States</td>\n",
       "      <td>&gt;50K</td>\n",
       "    </tr>\n",
       "    <tr>\n",
       "      <th>3</th>\n",
       "      <td>44</td>\n",
       "      <td>Private</td>\n",
       "      <td>160323</td>\n",
       "      <td>Some-college</td>\n",
       "      <td>10</td>\n",
       "      <td>Married-civ-spouse</td>\n",
       "      <td>Machine-op-inspct</td>\n",
       "      <td>Husband</td>\n",
       "      <td>Black</td>\n",
       "      <td>Male</td>\n",
       "      <td>7688</td>\n",
       "      <td>0</td>\n",
       "      <td>40</td>\n",
       "      <td>United-States</td>\n",
       "      <td>&gt;50K</td>\n",
       "    </tr>\n",
       "    <tr>\n",
       "      <th>4</th>\n",
       "      <td>18</td>\n",
       "      <td>?</td>\n",
       "      <td>103497</td>\n",
       "      <td>Some-college</td>\n",
       "      <td>10</td>\n",
       "      <td>Never-married</td>\n",
       "      <td>?</td>\n",
       "      <td>Own-child</td>\n",
       "      <td>White</td>\n",
       "      <td>Female</td>\n",
       "      <td>0</td>\n",
       "      <td>0</td>\n",
       "      <td>30</td>\n",
       "      <td>United-States</td>\n",
       "      <td>&lt;=50K</td>\n",
       "    </tr>\n",
       "    <tr>\n",
       "      <th>...</th>\n",
       "      <td>...</td>\n",
       "      <td>...</td>\n",
       "      <td>...</td>\n",
       "      <td>...</td>\n",
       "      <td>...</td>\n",
       "      <td>...</td>\n",
       "      <td>...</td>\n",
       "      <td>...</td>\n",
       "      <td>...</td>\n",
       "      <td>...</td>\n",
       "      <td>...</td>\n",
       "      <td>...</td>\n",
       "      <td>...</td>\n",
       "      <td>...</td>\n",
       "      <td>...</td>\n",
       "    </tr>\n",
       "    <tr>\n",
       "      <th>48837</th>\n",
       "      <td>27</td>\n",
       "      <td>Private</td>\n",
       "      <td>257302</td>\n",
       "      <td>Assoc-acdm</td>\n",
       "      <td>12</td>\n",
       "      <td>Married-civ-spouse</td>\n",
       "      <td>Tech-support</td>\n",
       "      <td>Wife</td>\n",
       "      <td>White</td>\n",
       "      <td>Female</td>\n",
       "      <td>0</td>\n",
       "      <td>0</td>\n",
       "      <td>38</td>\n",
       "      <td>United-States</td>\n",
       "      <td>&lt;=50K</td>\n",
       "    </tr>\n",
       "    <tr>\n",
       "      <th>48838</th>\n",
       "      <td>40</td>\n",
       "      <td>Private</td>\n",
       "      <td>154374</td>\n",
       "      <td>HS-grad</td>\n",
       "      <td>9</td>\n",
       "      <td>Married-civ-spouse</td>\n",
       "      <td>Machine-op-inspct</td>\n",
       "      <td>Husband</td>\n",
       "      <td>White</td>\n",
       "      <td>Male</td>\n",
       "      <td>0</td>\n",
       "      <td>0</td>\n",
       "      <td>40</td>\n",
       "      <td>United-States</td>\n",
       "      <td>&gt;50K</td>\n",
       "    </tr>\n",
       "    <tr>\n",
       "      <th>48839</th>\n",
       "      <td>58</td>\n",
       "      <td>Private</td>\n",
       "      <td>151910</td>\n",
       "      <td>HS-grad</td>\n",
       "      <td>9</td>\n",
       "      <td>Widowed</td>\n",
       "      <td>Adm-clerical</td>\n",
       "      <td>Unmarried</td>\n",
       "      <td>White</td>\n",
       "      <td>Female</td>\n",
       "      <td>0</td>\n",
       "      <td>0</td>\n",
       "      <td>40</td>\n",
       "      <td>United-States</td>\n",
       "      <td>&lt;=50K</td>\n",
       "    </tr>\n",
       "    <tr>\n",
       "      <th>48840</th>\n",
       "      <td>22</td>\n",
       "      <td>Private</td>\n",
       "      <td>201490</td>\n",
       "      <td>HS-grad</td>\n",
       "      <td>9</td>\n",
       "      <td>Never-married</td>\n",
       "      <td>Adm-clerical</td>\n",
       "      <td>Own-child</td>\n",
       "      <td>White</td>\n",
       "      <td>Male</td>\n",
       "      <td>0</td>\n",
       "      <td>0</td>\n",
       "      <td>20</td>\n",
       "      <td>United-States</td>\n",
       "      <td>&lt;=50K</td>\n",
       "    </tr>\n",
       "    <tr>\n",
       "      <th>48841</th>\n",
       "      <td>52</td>\n",
       "      <td>Self-emp-inc</td>\n",
       "      <td>287927</td>\n",
       "      <td>HS-grad</td>\n",
       "      <td>9</td>\n",
       "      <td>Married-civ-spouse</td>\n",
       "      <td>Exec-managerial</td>\n",
       "      <td>Wife</td>\n",
       "      <td>White</td>\n",
       "      <td>Female</td>\n",
       "      <td>15024</td>\n",
       "      <td>0</td>\n",
       "      <td>40</td>\n",
       "      <td>United-States</td>\n",
       "      <td>&gt;50K</td>\n",
       "    </tr>\n",
       "  </tbody>\n",
       "</table>\n",
       "<p>48842 rows × 15 columns</p>\n",
       "</div>"
      ],
      "text/plain": [
       "       age     workclass  fnlwgt     education  educational-num  \\\n",
       "0       25       Private  226802          11th                7   \n",
       "1       38       Private   89814       HS-grad                9   \n",
       "2       28     Local-gov  336951    Assoc-acdm               12   \n",
       "3       44       Private  160323  Some-college               10   \n",
       "4       18             ?  103497  Some-college               10   \n",
       "...    ...           ...     ...           ...              ...   \n",
       "48837   27       Private  257302    Assoc-acdm               12   \n",
       "48838   40       Private  154374       HS-grad                9   \n",
       "48839   58       Private  151910       HS-grad                9   \n",
       "48840   22       Private  201490       HS-grad                9   \n",
       "48841   52  Self-emp-inc  287927       HS-grad                9   \n",
       "\n",
       "           marital-status         occupation relationship   race  gender  \\\n",
       "0           Never-married  Machine-op-inspct    Own-child  Black    Male   \n",
       "1      Married-civ-spouse    Farming-fishing      Husband  White    Male   \n",
       "2      Married-civ-spouse    Protective-serv      Husband  White    Male   \n",
       "3      Married-civ-spouse  Machine-op-inspct      Husband  Black    Male   \n",
       "4           Never-married                  ?    Own-child  White  Female   \n",
       "...                   ...                ...          ...    ...     ...   \n",
       "48837  Married-civ-spouse       Tech-support         Wife  White  Female   \n",
       "48838  Married-civ-spouse  Machine-op-inspct      Husband  White    Male   \n",
       "48839             Widowed       Adm-clerical    Unmarried  White  Female   \n",
       "48840       Never-married       Adm-clerical    Own-child  White    Male   \n",
       "48841  Married-civ-spouse    Exec-managerial         Wife  White  Female   \n",
       "\n",
       "       capital-gain  capital-loss  hours-per-week native-country income  \n",
       "0                 0             0              40  United-States  <=50K  \n",
       "1                 0             0              50  United-States  <=50K  \n",
       "2                 0             0              40  United-States   >50K  \n",
       "3              7688             0              40  United-States   >50K  \n",
       "4                 0             0              30  United-States  <=50K  \n",
       "...             ...           ...             ...            ...    ...  \n",
       "48837             0             0              38  United-States  <=50K  \n",
       "48838             0             0              40  United-States   >50K  \n",
       "48839             0             0              40  United-States  <=50K  \n",
       "48840             0             0              20  United-States  <=50K  \n",
       "48841         15024             0              40  United-States   >50K  \n",
       "\n",
       "[48842 rows x 15 columns]"
      ]
     },
     "execution_count": 4,
     "metadata": {},
     "output_type": "execute_result"
    }
   ],
   "source": [
    "dtf"
   ]
  },
  {
   "cell_type": "markdown",
   "id": "b9f7e8d3",
   "metadata": {},
   "source": [
    "##### Notice\n",
    "To later run the Apriori algorithm in reasonable time, we will focus only on the following prominent columns, similar to the hands-on demonstration we saw in class."
   ]
  },
  {
   "cell_type": "code",
   "execution_count": 5,
   "id": "2c4add0b",
   "metadata": {},
   "outputs": [],
   "source": [
    "good_columns = ['age', 'workclass', 'education', 'educational-num', 'marital-status', 'race', 'gender','hours-per-week', 'income']\n",
    "dtf = dtf[good_columns]\n"
   ]
  },
  {
   "cell_type": "markdown",
   "id": "a1d3eb88",
   "metadata": {},
   "source": [
    "classify dataset columns:"
   ]
  },
  {
   "cell_type": "code",
   "execution_count": 6,
   "id": "06c13888",
   "metadata": {},
   "outputs": [],
   "source": [
    "numeric_columns, very_numerical, categorical_columns, ordinals = utils.classify_columns(dtf)\n",
    "# Removing ordinal textual columns that were set at configuration, because they are also detected as categorical (they are also textual)\n",
    "categorical_columns = set(categorical_columns) - set(ordinal_textual_columns)"
   ]
  },
  {
   "cell_type": "markdown",
   "id": "a6daf63b",
   "metadata": {},
   "source": [
    "**Data Preparing:**\n",
    "\n",
    "* **Very numerical columns** - filling Null values with the column's mean\n",
    "\n",
    "* **Categorical columns** - dropping those whose more than 70% of values are missing, and filling a new 'na' category in the columns that are kept"
   ]
  },
  {
   "cell_type": "code",
   "execution_count": 7,
   "id": "dea99276",
   "metadata": {},
   "outputs": [],
   "source": [
    "# the data_preparing function also returns the set of categorical columns that weren't dropped\n",
    "dtf, categorical_columns = utils.data_preparing(dtf, very_numerical, categorical_columns)"
   ]
  },
  {
   "cell_type": "code",
   "execution_count": 8,
   "id": "b211cca1",
   "metadata": {},
   "outputs": [
    {
     "data": {
      "text/html": [
       "<div>\n",
       "<style scoped>\n",
       "    .dataframe tbody tr th:only-of-type {\n",
       "        vertical-align: middle;\n",
       "    }\n",
       "\n",
       "    .dataframe tbody tr th {\n",
       "        vertical-align: top;\n",
       "    }\n",
       "\n",
       "    .dataframe thead th {\n",
       "        text-align: right;\n",
       "    }\n",
       "</style>\n",
       "<table border=\"1\" class=\"dataframe\">\n",
       "  <thead>\n",
       "    <tr style=\"text-align: right;\">\n",
       "      <th></th>\n",
       "      <th>age</th>\n",
       "      <th>workclass</th>\n",
       "      <th>education</th>\n",
       "      <th>educational-num</th>\n",
       "      <th>marital-status</th>\n",
       "      <th>race</th>\n",
       "      <th>gender</th>\n",
       "      <th>hours-per-week</th>\n",
       "      <th>income</th>\n",
       "    </tr>\n",
       "  </thead>\n",
       "  <tbody>\n",
       "    <tr>\n",
       "      <th>0</th>\n",
       "      <td>25</td>\n",
       "      <td>Private</td>\n",
       "      <td>11th</td>\n",
       "      <td>7</td>\n",
       "      <td>Never-married</td>\n",
       "      <td>Black</td>\n",
       "      <td>Male</td>\n",
       "      <td>40</td>\n",
       "      <td>&lt;=50K</td>\n",
       "    </tr>\n",
       "    <tr>\n",
       "      <th>1</th>\n",
       "      <td>38</td>\n",
       "      <td>Private</td>\n",
       "      <td>HS-grad</td>\n",
       "      <td>9</td>\n",
       "      <td>Married-civ-spouse</td>\n",
       "      <td>White</td>\n",
       "      <td>Male</td>\n",
       "      <td>50</td>\n",
       "      <td>&lt;=50K</td>\n",
       "    </tr>\n",
       "    <tr>\n",
       "      <th>2</th>\n",
       "      <td>28</td>\n",
       "      <td>Local-gov</td>\n",
       "      <td>Assoc-acdm</td>\n",
       "      <td>12</td>\n",
       "      <td>Married-civ-spouse</td>\n",
       "      <td>White</td>\n",
       "      <td>Male</td>\n",
       "      <td>40</td>\n",
       "      <td>&gt;50K</td>\n",
       "    </tr>\n",
       "    <tr>\n",
       "      <th>3</th>\n",
       "      <td>44</td>\n",
       "      <td>Private</td>\n",
       "      <td>Some-college</td>\n",
       "      <td>10</td>\n",
       "      <td>Married-civ-spouse</td>\n",
       "      <td>Black</td>\n",
       "      <td>Male</td>\n",
       "      <td>40</td>\n",
       "      <td>&gt;50K</td>\n",
       "    </tr>\n",
       "    <tr>\n",
       "      <th>4</th>\n",
       "      <td>18</td>\n",
       "      <td>?</td>\n",
       "      <td>Some-college</td>\n",
       "      <td>10</td>\n",
       "      <td>Never-married</td>\n",
       "      <td>White</td>\n",
       "      <td>Female</td>\n",
       "      <td>30</td>\n",
       "      <td>&lt;=50K</td>\n",
       "    </tr>\n",
       "    <tr>\n",
       "      <th>...</th>\n",
       "      <td>...</td>\n",
       "      <td>...</td>\n",
       "      <td>...</td>\n",
       "      <td>...</td>\n",
       "      <td>...</td>\n",
       "      <td>...</td>\n",
       "      <td>...</td>\n",
       "      <td>...</td>\n",
       "      <td>...</td>\n",
       "    </tr>\n",
       "    <tr>\n",
       "      <th>48837</th>\n",
       "      <td>27</td>\n",
       "      <td>Private</td>\n",
       "      <td>Assoc-acdm</td>\n",
       "      <td>12</td>\n",
       "      <td>Married-civ-spouse</td>\n",
       "      <td>White</td>\n",
       "      <td>Female</td>\n",
       "      <td>38</td>\n",
       "      <td>&lt;=50K</td>\n",
       "    </tr>\n",
       "    <tr>\n",
       "      <th>48838</th>\n",
       "      <td>40</td>\n",
       "      <td>Private</td>\n",
       "      <td>HS-grad</td>\n",
       "      <td>9</td>\n",
       "      <td>Married-civ-spouse</td>\n",
       "      <td>White</td>\n",
       "      <td>Male</td>\n",
       "      <td>40</td>\n",
       "      <td>&gt;50K</td>\n",
       "    </tr>\n",
       "    <tr>\n",
       "      <th>48839</th>\n",
       "      <td>58</td>\n",
       "      <td>Private</td>\n",
       "      <td>HS-grad</td>\n",
       "      <td>9</td>\n",
       "      <td>Widowed</td>\n",
       "      <td>White</td>\n",
       "      <td>Female</td>\n",
       "      <td>40</td>\n",
       "      <td>&lt;=50K</td>\n",
       "    </tr>\n",
       "    <tr>\n",
       "      <th>48840</th>\n",
       "      <td>22</td>\n",
       "      <td>Private</td>\n",
       "      <td>HS-grad</td>\n",
       "      <td>9</td>\n",
       "      <td>Never-married</td>\n",
       "      <td>White</td>\n",
       "      <td>Male</td>\n",
       "      <td>20</td>\n",
       "      <td>&lt;=50K</td>\n",
       "    </tr>\n",
       "    <tr>\n",
       "      <th>48841</th>\n",
       "      <td>52</td>\n",
       "      <td>Self-emp-inc</td>\n",
       "      <td>HS-grad</td>\n",
       "      <td>9</td>\n",
       "      <td>Married-civ-spouse</td>\n",
       "      <td>White</td>\n",
       "      <td>Female</td>\n",
       "      <td>40</td>\n",
       "      <td>&gt;50K</td>\n",
       "    </tr>\n",
       "  </tbody>\n",
       "</table>\n",
       "<p>48842 rows × 9 columns</p>\n",
       "</div>"
      ],
      "text/plain": [
       "       age     workclass     education  educational-num      marital-status  \\\n",
       "0       25       Private          11th                7       Never-married   \n",
       "1       38       Private       HS-grad                9  Married-civ-spouse   \n",
       "2       28     Local-gov    Assoc-acdm               12  Married-civ-spouse   \n",
       "3       44       Private  Some-college               10  Married-civ-spouse   \n",
       "4       18             ?  Some-college               10       Never-married   \n",
       "...    ...           ...           ...              ...                 ...   \n",
       "48837   27       Private    Assoc-acdm               12  Married-civ-spouse   \n",
       "48838   40       Private       HS-grad                9  Married-civ-spouse   \n",
       "48839   58       Private       HS-grad                9             Widowed   \n",
       "48840   22       Private       HS-grad                9       Never-married   \n",
       "48841   52  Self-emp-inc       HS-grad                9  Married-civ-spouse   \n",
       "\n",
       "        race  gender  hours-per-week income  \n",
       "0      Black    Male              40  <=50K  \n",
       "1      White    Male              50  <=50K  \n",
       "2      White    Male              40   >50K  \n",
       "3      Black    Male              40   >50K  \n",
       "4      White  Female              30  <=50K  \n",
       "...      ...     ...             ...    ...  \n",
       "48837  White  Female              38  <=50K  \n",
       "48838  White    Male              40   >50K  \n",
       "48839  White  Female              40  <=50K  \n",
       "48840  White    Male              20  <=50K  \n",
       "48841  White  Female              40   >50K  \n",
       "\n",
       "[48842 rows x 9 columns]"
      ]
     },
     "execution_count": 8,
     "metadata": {},
     "output_type": "execute_result"
    }
   ],
   "source": [
    "dtf"
   ]
  },
  {
   "cell_type": "markdown",
   "id": "e374fb77",
   "metadata": {},
   "source": [
    "### 2. 1. For labeled datasets - binning / encoding the label"
   ]
  },
  {
   "cell_type": "code",
   "execution_count": 9,
   "id": "121f7de3",
   "metadata": {},
   "outputs": [],
   "source": [
    "# Binning countinuous labels\n",
    "if is_dataset_labeled and label_type == 'Continuous':\n",
    "    # Binning the label column, if there exists one\n",
    "    dtf[label_name] = pd.qcut(dtf[label_name],5,labels=[\"0\", \"1\", \"2\", \"3\", \"4\"])\n",
    "    dtf[label_name].value_counts()\n",
    "\n",
    "# Label Encoding categorical labels\n",
    "elif is_dataset_labeled and label_type == 'Categorical': \n",
    "    label_encoder = sklearn.preprocessing.LabelEncoder()\n",
    "    # Encode labels in column\n",
    "    dtf[label_name] = label_encoder.fit_transform(dtf[label_name])"
   ]
  },
  {
   "cell_type": "code",
   "execution_count": 10,
   "id": "20b31d0f",
   "metadata": {},
   "outputs": [
    {
     "data": {
      "text/html": [
       "<div>\n",
       "<style scoped>\n",
       "    .dataframe tbody tr th:only-of-type {\n",
       "        vertical-align: middle;\n",
       "    }\n",
       "\n",
       "    .dataframe tbody tr th {\n",
       "        vertical-align: top;\n",
       "    }\n",
       "\n",
       "    .dataframe thead th {\n",
       "        text-align: right;\n",
       "    }\n",
       "</style>\n",
       "<table border=\"1\" class=\"dataframe\">\n",
       "  <thead>\n",
       "    <tr style=\"text-align: right;\">\n",
       "      <th></th>\n",
       "      <th>age</th>\n",
       "      <th>workclass</th>\n",
       "      <th>education</th>\n",
       "      <th>educational-num</th>\n",
       "      <th>marital-status</th>\n",
       "      <th>race</th>\n",
       "      <th>gender</th>\n",
       "      <th>hours-per-week</th>\n",
       "      <th>income</th>\n",
       "    </tr>\n",
       "  </thead>\n",
       "  <tbody>\n",
       "    <tr>\n",
       "      <th>0</th>\n",
       "      <td>25</td>\n",
       "      <td>Private</td>\n",
       "      <td>11th</td>\n",
       "      <td>7</td>\n",
       "      <td>Never-married</td>\n",
       "      <td>Black</td>\n",
       "      <td>Male</td>\n",
       "      <td>40</td>\n",
       "      <td>0</td>\n",
       "    </tr>\n",
       "    <tr>\n",
       "      <th>1</th>\n",
       "      <td>38</td>\n",
       "      <td>Private</td>\n",
       "      <td>HS-grad</td>\n",
       "      <td>9</td>\n",
       "      <td>Married-civ-spouse</td>\n",
       "      <td>White</td>\n",
       "      <td>Male</td>\n",
       "      <td>50</td>\n",
       "      <td>0</td>\n",
       "    </tr>\n",
       "    <tr>\n",
       "      <th>2</th>\n",
       "      <td>28</td>\n",
       "      <td>Local-gov</td>\n",
       "      <td>Assoc-acdm</td>\n",
       "      <td>12</td>\n",
       "      <td>Married-civ-spouse</td>\n",
       "      <td>White</td>\n",
       "      <td>Male</td>\n",
       "      <td>40</td>\n",
       "      <td>1</td>\n",
       "    </tr>\n",
       "    <tr>\n",
       "      <th>3</th>\n",
       "      <td>44</td>\n",
       "      <td>Private</td>\n",
       "      <td>Some-college</td>\n",
       "      <td>10</td>\n",
       "      <td>Married-civ-spouse</td>\n",
       "      <td>Black</td>\n",
       "      <td>Male</td>\n",
       "      <td>40</td>\n",
       "      <td>1</td>\n",
       "    </tr>\n",
       "    <tr>\n",
       "      <th>4</th>\n",
       "      <td>18</td>\n",
       "      <td>?</td>\n",
       "      <td>Some-college</td>\n",
       "      <td>10</td>\n",
       "      <td>Never-married</td>\n",
       "      <td>White</td>\n",
       "      <td>Female</td>\n",
       "      <td>30</td>\n",
       "      <td>0</td>\n",
       "    </tr>\n",
       "    <tr>\n",
       "      <th>...</th>\n",
       "      <td>...</td>\n",
       "      <td>...</td>\n",
       "      <td>...</td>\n",
       "      <td>...</td>\n",
       "      <td>...</td>\n",
       "      <td>...</td>\n",
       "      <td>...</td>\n",
       "      <td>...</td>\n",
       "      <td>...</td>\n",
       "    </tr>\n",
       "    <tr>\n",
       "      <th>48837</th>\n",
       "      <td>27</td>\n",
       "      <td>Private</td>\n",
       "      <td>Assoc-acdm</td>\n",
       "      <td>12</td>\n",
       "      <td>Married-civ-spouse</td>\n",
       "      <td>White</td>\n",
       "      <td>Female</td>\n",
       "      <td>38</td>\n",
       "      <td>0</td>\n",
       "    </tr>\n",
       "    <tr>\n",
       "      <th>48838</th>\n",
       "      <td>40</td>\n",
       "      <td>Private</td>\n",
       "      <td>HS-grad</td>\n",
       "      <td>9</td>\n",
       "      <td>Married-civ-spouse</td>\n",
       "      <td>White</td>\n",
       "      <td>Male</td>\n",
       "      <td>40</td>\n",
       "      <td>1</td>\n",
       "    </tr>\n",
       "    <tr>\n",
       "      <th>48839</th>\n",
       "      <td>58</td>\n",
       "      <td>Private</td>\n",
       "      <td>HS-grad</td>\n",
       "      <td>9</td>\n",
       "      <td>Widowed</td>\n",
       "      <td>White</td>\n",
       "      <td>Female</td>\n",
       "      <td>40</td>\n",
       "      <td>0</td>\n",
       "    </tr>\n",
       "    <tr>\n",
       "      <th>48840</th>\n",
       "      <td>22</td>\n",
       "      <td>Private</td>\n",
       "      <td>HS-grad</td>\n",
       "      <td>9</td>\n",
       "      <td>Never-married</td>\n",
       "      <td>White</td>\n",
       "      <td>Male</td>\n",
       "      <td>20</td>\n",
       "      <td>0</td>\n",
       "    </tr>\n",
       "    <tr>\n",
       "      <th>48841</th>\n",
       "      <td>52</td>\n",
       "      <td>Self-emp-inc</td>\n",
       "      <td>HS-grad</td>\n",
       "      <td>9</td>\n",
       "      <td>Married-civ-spouse</td>\n",
       "      <td>White</td>\n",
       "      <td>Female</td>\n",
       "      <td>40</td>\n",
       "      <td>1</td>\n",
       "    </tr>\n",
       "  </tbody>\n",
       "</table>\n",
       "<p>48842 rows × 9 columns</p>\n",
       "</div>"
      ],
      "text/plain": [
       "       age     workclass     education  educational-num      marital-status  \\\n",
       "0       25       Private          11th                7       Never-married   \n",
       "1       38       Private       HS-grad                9  Married-civ-spouse   \n",
       "2       28     Local-gov    Assoc-acdm               12  Married-civ-spouse   \n",
       "3       44       Private  Some-college               10  Married-civ-spouse   \n",
       "4       18             ?  Some-college               10       Never-married   \n",
       "...    ...           ...           ...              ...                 ...   \n",
       "48837   27       Private    Assoc-acdm               12  Married-civ-spouse   \n",
       "48838   40       Private       HS-grad                9  Married-civ-spouse   \n",
       "48839   58       Private       HS-grad                9             Widowed   \n",
       "48840   22       Private       HS-grad                9       Never-married   \n",
       "48841   52  Self-emp-inc       HS-grad                9  Married-civ-spouse   \n",
       "\n",
       "        race  gender  hours-per-week  income  \n",
       "0      Black    Male              40       0  \n",
       "1      White    Male              50       0  \n",
       "2      White    Male              40       1  \n",
       "3      Black    Male              40       1  \n",
       "4      White  Female              30       0  \n",
       "...      ...     ...             ...     ...  \n",
       "48837  White  Female              38       0  \n",
       "48838  White    Male              40       1  \n",
       "48839  White  Female              40       0  \n",
       "48840  White    Male              20       0  \n",
       "48841  White  Female              40       1  \n",
       "\n",
       "[48842 rows x 9 columns]"
      ]
     },
     "execution_count": 10,
     "metadata": {},
     "output_type": "execute_result"
    }
   ],
   "source": [
    "dtf"
   ]
  },
  {
   "cell_type": "code",
   "execution_count": null,
   "id": "0f06dc27",
   "metadata": {},
   "outputs": [],
   "source": []
  },
  {
   "cell_type": "markdown",
   "id": "16ba7e9c",
   "metadata": {},
   "source": [
    "### 2.2. For unlabeled datasets - run KMeans for classification\n",
    "\n",
    "We first have to make sure all the values in the dataset are numerical. To do so, we one hot encode the categorical columns, and label encode the ordinal columns that do not contain numerical values (e.g. Country, City) - if there are any. We need to define that by hand because we don't have an easy way to distinguish between textual categorical columns and textual ordinal columns."
   ]
  },
  {
   "cell_type": "code",
   "execution_count": 11,
   "id": "91df2064",
   "metadata": {},
   "outputs": [],
   "source": [
    "if not is_dataset_labeled:\n",
    "\n",
    "    modified_dtf = dtf.copy(deep=True)\n",
    "    \n",
    "    # Label Encoding ordinal textual columns\n",
    "    modified_dtf = utils.label_encoding(dtf, ordinal_textual_columns)\n",
    "    \n",
    "    # One-hot encoding the categorical columns\n",
    "    modified_dtf = utils.one_hot_encoding(dtf, categorical_columns)\n",
    "    \n",
    "    modified_dtf\n",
    "    "
   ]
  },
  {
   "cell_type": "code",
   "execution_count": 12,
   "id": "5a97b179",
   "metadata": {},
   "outputs": [],
   "source": [
    "if not is_dataset_labeled:\n",
    "    modified_dtf"
   ]
  },
  {
   "cell_type": "markdown",
   "id": "a24c1bc2",
   "metadata": {},
   "source": [
    "#### Running KMeans Classifier on the modified dataset"
   ]
  },
  {
   "cell_type": "code",
   "execution_count": 13,
   "id": "d8dbab72",
   "metadata": {},
   "outputs": [],
   "source": [
    "if not is_dataset_labeled:\n",
    "    dtf[label_name] = utils.run_KMeans(modified_dtf, k=10)\n",
    "    dtf[label_name].value_counts()"
   ]
  },
  {
   "cell_type": "markdown",
   "id": "14977f75",
   "metadata": {},
   "source": [
    "Removing samples from small clusters (clusters whose size is less than 1% of the dataset's size)"
   ]
  },
  {
   "cell_type": "code",
   "execution_count": 14,
   "id": "3c820b82",
   "metadata": {},
   "outputs": [],
   "source": [
    "if not is_dataset_labeled:\n",
    "    labels_to_remove = list()\n",
    "    one_percentile = (int) (dtf.shape[0] / 100)\n",
    "    for val, count in dtf.labels.value_counts().iteritems():\n",
    "        if count <= one_percentile:\n",
    "            labels_to_remove.append(val)\n",
    "\n",
    "    # Remove outlier samples that are in small clusters\n",
    "    df1 = dtf[~dtf.labels.isin(labels_to_remove)]\n"
   ]
  },
  {
   "cell_type": "code",
   "execution_count": 15,
   "id": "059eff8a",
   "metadata": {},
   "outputs": [],
   "source": [
    "if not is_dataset_labeled:\n",
    "    dtf[label_name].value_counts()"
   ]
  },
  {
   "cell_type": "markdown",
   "id": "067b2311",
   "metadata": {},
   "source": [
    "### 3. Running Apriori Algorithm\n",
    "We now have a labeled dataset. We split it into clusters according to the label, and convert each cluster dataframe into a transactional form.  \n",
    "Then, we run the Apriori algorithm on each dataframe independently, and save the total list of mined association rules."
   ]
  },
  {
   "cell_type": "code",
   "execution_count": 16,
   "id": "7be03a5d",
   "metadata": {},
   "outputs": [
    {
     "name": "stdout",
     "output_type": "stream",
     "text": [
      "Wall time: 959 ms\n"
     ]
    }
   ],
   "source": [
    "%%time\n",
    "cluster_mined_rules = utils.mine_labeled_df_association_rules(dtf, label_name, min_support=0.5, min_confidence=0.8)"
   ]
  },
  {
   "cell_type": "code",
   "execution_count": 17,
   "id": "6b3a2376",
   "metadata": {},
   "outputs": [
    {
     "data": {
      "text/plain": [
       "[{('gender', 'Male')} -> {('income', 0)},\n",
       " {('gender', 'Male')} -> {('race', 'White')},\n",
       " {('race', 'White')} -> {('income', 0)},\n",
       " {('income', 0)} -> {('race', 'White')},\n",
       " {('workclass', 'Private')} -> {('income', 0)}]"
      ]
     },
     "execution_count": 17,
     "metadata": {},
     "output_type": "execute_result"
    }
   ],
   "source": [
    "cluster_mined_rules[:5]"
   ]
  },
  {
   "cell_type": "code",
   "execution_count": 18,
   "id": "acbfaa15",
   "metadata": {},
   "outputs": [
    {
     "data": {
      "text/plain": [
       "68"
      ]
     },
     "execution_count": 18,
     "metadata": {},
     "output_type": "execute_result"
    }
   ],
   "source": [
    "len(cluster_mined_rules)"
   ]
  },
  {
   "cell_type": "markdown",
   "id": "5a5f7b15",
   "metadata": {},
   "source": [
    "### Experimental Evaluation\n",
    "We will now try to show that the rules we mined from the clusters are more insightful than rules that are mined on the dataset as a whole."
   ]
  },
  {
   "cell_type": "code",
   "execution_count": 19,
   "id": "3ce96bd9",
   "metadata": {},
   "outputs": [],
   "source": [
    "unpartitioned_dataset_rules = utils.mine_association_rules(dtf, min_support=0.5, min_confidence=0.8)"
   ]
  },
  {
   "cell_type": "code",
   "execution_count": 20,
   "id": "6f093841",
   "metadata": {},
   "outputs": [
    {
     "data": {
      "text/plain": [
       "[{('gender', 'Male')} -> {('race', 'White')},\n",
       " {('income', 0)} -> {('race', 'White')},\n",
       " {('workclass', 'Private')} -> {('race', 'White')}]"
      ]
     },
     "execution_count": 20,
     "metadata": {},
     "output_type": "execute_result"
    }
   ],
   "source": [
    "unpartitioned_dataset_rules"
   ]
  },
  {
   "cell_type": "markdown",
   "id": "359017d1",
   "metadata": {},
   "source": [
    "We can see that when using the same support and confidence thresholds, we get way more association rules when we mine them independently from each cluster."
   ]
  },
  {
   "cell_type": "code",
   "execution_count": 21,
   "id": "e485e7ff",
   "metadata": {},
   "outputs": [
    {
     "name": "stdout",
     "output_type": "stream",
     "text": [
      "Simple mined rules:   3\n",
      "Cluster mined rules:  68\n"
     ]
    }
   ],
   "source": [
    "print(\"Simple mined rules:  \", len(unpartitioned_dataset_rules))\n",
    "print(\"Cluster mined rules: \", len(cluster_mined_rules))"
   ]
  },
  {
   "cell_type": "markdown",
   "id": "e7fbb5c3",
   "metadata": {},
   "source": [
    "to get the around the same number of rules as the rules we mined from clusters, the support / confidence thresholds (or both) need to be lowered."
   ]
  },
  {
   "cell_type": "code",
   "execution_count": 22,
   "id": "1c937672",
   "metadata": {},
   "outputs": [],
   "source": [
    "more_unpartitioned_dataset_rules = utils.mine_association_rules(dtf, min_support=0.29, min_confidence=0.4)"
   ]
  },
  {
   "cell_type": "code",
   "execution_count": 23,
   "id": "0baa7cf8",
   "metadata": {},
   "outputs": [
    {
     "data": {
      "text/plain": [
       "65"
      ]
     },
     "execution_count": 23,
     "metadata": {},
     "output_type": "execute_result"
    }
   ],
   "source": [
    "len(more_unpartitioned_dataset_rules)"
   ]
  },
  {
   "cell_type": "markdown",
   "id": "c50507d2",
   "metadata": {},
   "source": [
    "#### Plot Amounts of Association Rules"
   ]
  },
  {
   "cell_type": "code",
   "execution_count": 24,
   "id": "61c43a5c",
   "metadata": {},
   "outputs": [
    {
     "data": {
      "image/png": "[encoded data removed]",
      "text/plain": [
       "<Figure size 432x288 with 1 Axes>"
      ]
     },
     "metadata": {
      "needs_background": "light"
     },
     "output_type": "display_data"
    }
   ],
   "source": [
    "height = [len(cluster_mined_rules), len(unpartitioned_dataset_rules) ,len(more_unpartitioned_dataset_rules)]\n",
    "bars = ('Clusters\\n(supp=0.5, conf=0.8)',\n",
    "        'Unpartitioned Dataset\\n(supp=0.5, conf=0.8)',\n",
    "        'Unpartitioned Dataset\\n(supp=0.29, conf=0.4)')\n",
    " \n",
    "# Create bars and choose color\n",
    "plt.bar([1,2,3], height, color = (0,0.8,1,1))\n",
    " \n",
    "# Add title and axis names\n",
    "plt.title('Association Rule Mining on the Adult Income Dataset')\n",
    "# plt.xlabel('categories')\n",
    "plt.ylabel('Amount of Rules')\n",
    " \n",
    "# Create names on the x axis\n",
    "plt.xticks([1,2,3], bars, rotation=15)\n",
    " \n",
    "# Show graph\n",
    "plt.show()"
   ]
  },
  {
   "cell_type": "markdown",
   "id": "bddbed45",
   "metadata": {},
   "source": [
    "\n",
    "We expect to see higher number of interesting rules among the rules we mined from each cluster independently.  \n"
   ]
  },
  {
   "cell_type": "markdown",
   "id": "253dd9cd",
   "metadata": {},
   "source": [
    "##### Lift"
   ]
  },
  {
   "cell_type": "markdown",
   "id": "d414ea5d",
   "metadata": {},
   "source": [
    "The Lift measure on an association rule X->Y measures how many times more often X and Y occur together than expected if they were statistically independent.  \n",
    "The range of lift value is [0, inf].\n",
    "\n",
    "* A lift value of 1 indicates independece between X and Y.\n",
    "* Lift(X->Y)<1 means negative correlation between X and Y.\n",
    "* Lift(X->Y)>1 means strong dependancy between X and Y.\n",
    "\n",
    "Therefore, we will check how many rules are interesting - not close to 1:\n"
   ]
  },
  {
   "cell_type": "code",
   "execution_count": 29,
   "id": "e0a35c00",
   "metadata": {},
   "outputs": [
    {
     "name": "stdout",
     "output_type": "stream",
     "text": [
      "6\n",
      "28\n"
     ]
    }
   ],
   "source": [
    "count_interesting_cluster_rules_lift = 0\n",
    "count_interesting_unpartitioned_rules_lift = 0\n",
    "\n",
    "epsilon = 0.05\n",
    "\n",
    "for rule in cluster_mined_rules:\n",
    "    if rule.lift >= 1 + epsilon or rule.lift <= 1 - epsilon:\n",
    "        count_interesting_cluster_rules_lift += 1\n",
    "        \n",
    "for rule in more_unpartitioned_dataset_rules:\n",
    "    if rule.lift >= 1 + epsilon or rule.lift <= 1 - epsilon:\n",
    "        count_interesting_unpartitioned_rules_lift += 1\n",
    "\n",
    "print(count_interesting_cluster_rules_lift)\n",
    "print(count_interesting_unpartitioned_rules_lift)"
   ]
  },
  {
   "cell_type": "markdown",
   "id": "c2a9acce",
   "metadata": {},
   "source": [
    "##### Conviction"
   ]
  },
  {
   "cell_type": "code",
   "execution_count": 30,
   "id": "cec6cd1d",
   "metadata": {},
   "outputs": [
    {
     "name": "stdout",
     "output_type": "stream",
     "text": [
      "46\n",
      "40\n"
     ]
    }
   ],
   "source": [
    "count_interesting_cluster_rules_conv = 0\n",
    "count_interesting_unpartitioned_rules_conv = 0\n",
    "\n",
    "epsilon = 0.05\n",
    "\n",
    "for rule in cluster_mined_rules:\n",
    "    if rule.conviction >= 1 + epsilon or rule.conviction <= 1 - epsilon:\n",
    "        count_interesting_cluster_rules_conv += 1\n",
    "        \n",
    "for rule in more_unpartitioned_dataset_rules:\n",
    "    if rule.conviction >= 1 + epsilon or rule.conviction <= 1 - epsilon:\n",
    "        count_interesting_unpartitioned_rules_conv += 1\n",
    "\n",
    "print(count_interesting_cluster_rules_conv)\n",
    "print(count_interesting_unpartitioned_rules_conv)"
   ]
  },
  {
   "cell_type": "code",
   "execution_count": 31,
   "id": "7297777b",
   "metadata": {},
   "outputs": [
    {
     "data": {
      "image/png": "[encoded data removed]",
      "text/plain": [
       "<Figure size 432x288 with 1 Axes>"
      ]
     },
     "metadata": {
      "needs_background": "light"
     },
     "output_type": "display_data"
    }
   ],
   "source": [
    "X = ['By Lift','By Conviction']\n",
    "from_cluster = [count_interesting_cluster_rules_lift, count_interesting_cluster_rules_conv]\n",
    "from_unpartitioned = [count_interesting_unpartitioned_rules_lift, count_interesting_unpartitioned_rules_conv]\n",
    "  \n",
    "X_axis = np.arange(len(X))\n",
    "  \n",
    "plt.bar(X_axis - 0.2, from_cluster, 0.4, label = 'From Clusters')\n",
    "plt.bar(X_axis + 0.2, from_unpartitioned, 0.4, label = 'From Unpartitioned Dataset')\n",
    "  \n",
    "plt.xticks(X_axis, X)\n",
    "plt.xlabel(\"Interestingness Measure\")\n",
    "plt.ylabel(\"Amount of Rules\")\n",
    "plt.title(\"Number of Interesting Rules from the Adult Income Dataset\")\n",
    "plt.legend()\n",
    "plt.show()"
   ]
  },
  {
   "cell_type": "markdown",
   "id": "725ba8f4",
   "metadata": {},
   "source": [
    "Measuring the lift and conviction values, probably isn't the best way to measure the interestingness level of rule for our purpose. Maybe becuase the lift calculation depends on the support and confidence, and doens't do justice with the rare rules we mined from each cluster independently.  \n",
    "\n",
    "For future work we will try to check their interestingness in another way - we will take the test dataset, and label it using KNN classifier according to the clusters.\n",
    "Then, we will randomly remove one cell from every sample, and see how well rules from the sample's cluster restore the missing value."
   ]
  },
  {
   "cell_type": "code",
   "execution_count": null,
   "id": "17e70aca",
   "metadata": {},
   "outputs": [],
   "source": []
  },
  {
   "cell_type": "code",
   "execution_count": null,
   "id": "2fab750d",
   "metadata": {},
   "outputs": [],
   "source": []
  }
 ],
 "metadata": {
  "kernelspec": {
   "display_name": "Python 3 (ipykernel)",
   "language": "python",
   "name": "python3"
  },
  "language_info": {
   "codemirror_mode": {
    "name": "ipython",
    "version": 3
   },
   "file_extension": ".py",
   "mimetype": "text/x-python",
   "name": "python",
   "nbconvert_exporter": "python",
   "pygments_lexer": "ipython3",
   "version": "3.7.9"
  }
 },
 "nbformat": 4,
 "nbformat_minor": 5
}
